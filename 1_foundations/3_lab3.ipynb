{
 "cells": [
  {
   "cell_type": "markdown",
   "metadata": {},
   "source": [
    "## Welcome to Lab 3 for Week 1 Day 4\n",
    "\n",
    "Today we're going to build something with immediate value!\n",
    "\n",
    "In the folder `me` I've put a single file `linkedin.pdf` - it's a PDF download of my LinkedIn profile.\n",
    "\n",
    "Please replace it with yours!\n",
    "\n",
    "I've also made a file called `summary.txt`\n",
    "\n",
    "We're not going to use Tools just yet - we're going to add the tool tomorrow."
   ]
  },
  {
   "cell_type": "markdown",
   "metadata": {},
   "source": [
    "<table style=\"margin: 0; text-align: left; width:100%\">\n",
    "    <tr>\n",
    "        <td style=\"width: 150px; height: 150px; vertical-align: middle;\">\n",
    "            <img src=\"../assets/tools.png\" width=\"150\" height=\"150\" style=\"display: block;\" />\n",
    "        </td>\n",
    "        <td>\n",
    "            <h2 style=\"color:#00bfff;\">Looking up packages</h2>\n",
    "            <span style=\"color:#00bfff;\">In this lab, we're going to use the wonderful Gradio package for building quick UIs, \n",
    "            and we're also going to use the popular PyPDF PDF reader. You can get guides to these packages by asking \n",
    "            ChatGPT or Claude, and you find all open-source packages on the repository <a href=\"https://pypi.org\">https://pypi.org</a>.\n",
    "            </span>\n",
    "        </td>\n",
    "    </tr>\n",
    "</table>"
   ]
  },
  {
   "cell_type": "code",
   "execution_count": 1,
   "metadata": {},
   "outputs": [],
   "source": [
    "# If you don't know what any of these packages do - you can always ask ChatGPT for a guide!\n",
    "\n",
    "from dotenv import load_dotenv\n",
    "from openai import OpenAI\n",
    "from pypdf import PdfReader\n",
    "import gradio as gr"
   ]
  },
  {
   "cell_type": "code",
   "execution_count": 2,
   "metadata": {},
   "outputs": [],
   "source": [
    "load_dotenv(override=True)\n",
    "openai = OpenAI()"
   ]
  },
  {
   "cell_type": "code",
   "execution_count": 3,
   "metadata": {},
   "outputs": [],
   "source": [
    "reader = PdfReader(\"me/linkedin.pdf\")\n",
    "linkedin = \"\"\n",
    "for page in reader.pages:\n",
    "    text = page.extract_text()\n",
    "    if text:\n",
    "        linkedin += text"
   ]
  },
  {
   "cell_type": "code",
   "execution_count": 4,
   "metadata": {},
   "outputs": [
    {
     "name": "stdout",
     "output_type": "stream",
     "text": [
      "   \n",
      "Contact\n",
      "Dubai Sports City\n",
      "‭+971569490923 (Mobile)\n",
      "abdelrahmansalembakry@gmail\n",
      ".com\n",
      "www.linkedin.com/in/abdelrahman-\n",
      "bakry-39859464 (LinkedIn)\n",
      "Top Skills\n",
      "Architecture Management\n",
      "Back-End Web Development\n",
      "Engineering Management\n",
      "Certifications\n",
      "Project Management: Technical\n",
      "Projects\n",
      "Project Management: Preventing\n",
      "Scope Creep\n",
      "Ruby Scripting for DevOps\n",
      "Project Management Foundations:\n",
      "Lessons Learned\n",
      "Programming Foundations: Software\n",
      "Testing/QA\n",
      "Abdelrahman Bakry\n",
      "Software Architect | Engineering Manager | AI & Machine Learning\n",
      "Enthusiast | Generative AI\n",
      "Dubai, United Arab Emirates\n",
      "Summary\n",
      "Focused on the latest tech innovations, I specialize in integrating\n",
      "AI, machine learning, and generative AI into real-world applications.\n",
      "As a Software Architect and Engineering Manager, I leverage my\n",
      "expertise in JavaScript, Ruby on Rails, and Java to develop scalable,\n",
      "intelligent web and mobile solutions. My experience spans React.js,\n",
      "React Native, and Node.js, enabling me to design maintainable,\n",
      "cutting-edge software while leading teams to deliver complex\n",
      "projects. Always at the forefront of emerging trends, including\n",
      "generative AI, LLMs, and cloud-based solutions, I’m driven by a\n",
      "passion for building smarter, more efficient systems that harness the\n",
      "power of modern technology.\n",
      "Explore my work on my GitHub profile: https://github.com/Abakrii.\n",
      "Experience\n",
      "Builder.ai\n",
      "Software Technical Architect - AI & ML Solutions\n",
      "February 2023 - Present (2 years 7 months)\n",
      "Dubai, United Arab Emirates\n",
      "- Designed and deployed AI-driven web/mobile apps using React, React\n",
      "Native, and Ruby on Rails.\n",
      "- Integrated LLMs and RAG models with semantic search frameworks like\n",
      "Pinecone and Faiss.\n",
      "- Led the optimization of vector search relevancy and indexing strategies using\n",
      "LangChain.\n",
      "- Benchmarked and fine-tuned ML models (TensorFlow/PyTorch) with TPU/\n",
      "GPU acceleration.\n",
      "- Presented AI solutions to clients and internal teams in English and Arabic.\n",
      "- Mentored engineers on AI architecture and ML best practices.\n",
      "Tradeling\n",
      "Frontend Engineering Lead\n",
      "  Page 1 of 3   \n",
      "December 2021 - February 2023 (1 year 3 months)\n",
      "Dubai, United Arab Emirates\n",
      "- Led frontend architecture restructuring using modular, feature-oriented\n",
      "design.\n",
      "- Created reusable component libraries and implemented CI/CD pipelines via\n",
      "App Center.\n",
      "- Improved app stability by reducing crash rates by 25% and boosting\n",
      "performance.\n",
      "Mashreq Bank\n",
      "Senior Frontend Engineer - Mobile & Web \n",
      "January 2020 - December 2021 (2 years)\n",
      "Dubai, United Arab Emirates\n",
      "- Delivered 15+ React/React Native app journeys for retail and corporate\n",
      "banking.\n",
      "- Built a bulk-upload tool for corporate onboarding, reducing setup time by\n",
      "60%.\n",
      "- Launched MENA's first smartwatch banking app using SwiftUI + React\n",
      "Native.\n",
      "- Managed mobile CI/CD workflows and automated testing.\n",
      "جامعة المجمعة| Majmaah University\n",
      "Senior Frontend Developer - React Specialist\n",
      "September 2018 - November 2019 (1 year 3 months)\n",
      "Al-Majma’ah, Riyadh Region, Saudi Arabia\n",
      "- Built cross-platform apps with React Native and TypeScript.\n",
      "- Engineered encrypted and unencrypted persistent storage for mobile\n",
      "platforms.\n",
      "- Developed and maintained backend APIs using PHP and Laravel stack.\n",
      "Codersea\n",
      "Full Stack Developer – Web & Mobile\n",
      "October 2016 - November 2018 (2 years 2 months)\n",
      "Bur Sa'id, Egypt\n",
      "- Built and maintained mobile apps for Android/iOS with React Native.\n",
      "- Implemented map-based views and secure local data storage.\n",
      "- Delivered websites and dashboards in PHP; handled styling, UX, and\n",
      "deployment.\n",
      "Petrogulf misr\n",
      "Trainee Computer Systems Engineer\n",
      "  Page 2 of 3   \n",
      "August 2015 - September 2015 (2 months)\n",
      "Egypt\n",
      "- Proficient in major networking components and hardware.\n",
      "- Experienced in measurement, capacity, and tuning.\n",
      "- Thorough understanding of Windows and UNIX systems.\n",
      "- Familiar with static routing, SQL databases, and VMware.\n",
      "Sinotharwa Drilling Company\n",
      "Trainee IT Engineer\n",
      "June 2014 - August 2014 (3 months)\n",
      "Cairo, Egypt\n",
      "- Administered and designed LANs, WANs, internet/intranet, and voice\n",
      "networks.\n",
      "- Analyzed and developed key network components.\n",
      "- Conducted network connectivity troubleshooting including ping and\n",
      "traceroute.\n",
      "Education\n",
      "Modern Academy Maadi\n",
      "Bachelor's degree, Computer Science · (2012 - 2016)\n",
      "  Page 3 of 3\n"
     ]
    }
   ],
   "source": [
    "print(linkedin)"
   ]
  },
  {
   "cell_type": "code",
   "execution_count": 5,
   "metadata": {},
   "outputs": [],
   "source": [
    "with open(\"me/summary.txt\", \"r\", encoding=\"utf-8\") as f:\n",
    "    summary = f.read()"
   ]
  },
  {
   "cell_type": "code",
   "execution_count": 6,
   "metadata": {},
   "outputs": [
    {
     "name": "stdout",
     "output_type": "stream",
     "text": [
      "My name is Abdelrahman Bakry. I'm 31 years old and I live in Dubai, UAE.\n"
     ]
    }
   ],
   "source": [
    "name = \"Abdelrahman Bakry\"\n",
    "age = 31        \n",
    "location = \"Dubai, UAE\"\n",
    "\n",
    "print(f\"My name is {name}. I'm {age} years old and I live in {location}.\")\n",
    "\n",
    "# 2. Create a list of your hobbies\n",
    "hobbies = [\"Reading\", \"Traveling\", \"Coding\", \"Gaming\", \"Cooking\"]"
   ]
  },
  {
   "cell_type": "code",
   "execution_count": 7,
   "metadata": {},
   "outputs": [],
   "source": [
    "system_prompt = f\"You are acting as {name}. You are answering questions on {name}'s website, \\\n",
    "particularly questions related to {name}'s career, background, skills and experience. \\\n",
    "Your responsibility is to represent {name} for interactions on the website as faithfully as possible. \\\n",
    "You are given a summary of {name}'s background and LinkedIn profile which you can use to answer questions. \\\n",
    "Be professional and engaging, as if talking to a potential client or future employer who came across the website. \\\n",
    "If you don't know the answer, say so.\"\n",
    "\n",
    "system_prompt += f\"\\n\\n## Summary:\\n{summary}\\n\\n## LinkedIn Profile:\\n{linkedin}\\n\\n\"\n",
    "system_prompt += f\"With this context, please chat with the user, always staying in character as {name}.\"\n"
   ]
  },
  {
   "cell_type": "code",
   "execution_count": 8,
   "metadata": {},
   "outputs": [
    {
     "data": {
      "text/plain": [
       "\"You are acting as Abdelrahman Bakry. You are answering questions on Abdelrahman Bakry's website, particularly questions related to Abdelrahman Bakry's career, background, skills and experience. Your responsibility is to represent Abdelrahman Bakry for interactions on the website as faithfully as possible. You are given a summary of Abdelrahman Bakry's background and LinkedIn profile which you can use to answer questions. Be professional and engaging, as if talking to a potential client or future employer who came across the website. If you don't know the answer, say so.\\n\\n## Summary:\\nMy name is Abdelrahman Bakry. I’m a software architect, AI enthusiast, and entrepreneur. I’m originally from Egypt, but I’m now based in Dubai, UAE. I’m passionate about building innovative tech products, especially those that combine AI, big data, and great user experiences. I love exploring new ideas, meeting inspiring people, and enjoying good coffee. I’m also a big fan of travel and discovering unique places—although, oddly enough, I’m not much into overly sweet desserts. I’ll make an exception for kunafa and tiramisu though some temptations are just too hard to resist.\\n\\n## LinkedIn Profile:\\n\\xa0 \\xa0\\nContact\\nDubai Sports City\\n\\u202d+971569490923 (Mobile)\\nabdelrahmansalembakry@gmail\\n.com\\nwww.linkedin.com/in/abdelrahman-\\nbakry-39859464 (LinkedIn)\\nTop Skills\\nArchitecture Management\\nBack-End Web Development\\nEngineering Management\\nCertifications\\nProject Management: Technical\\nProjects\\nProject Management: Preventing\\nScope Creep\\nRuby Scripting for DevOps\\nProject Management Foundations:\\nLessons Learned\\nProgramming Foundations: Software\\nTesting/QA\\nAbdelrahman Bakry\\nSoftware Architect | Engineering Manager | AI & Machine Learning\\nEnthusiast | Generative AI\\nDubai, United Arab Emirates\\nSummary\\nFocused on the latest tech innovations, I specialize in integrating\\nAI, machine learning, and generative AI into real-world applications.\\nAs a Software Architect and Engineering Manager, I leverage my\\nexpertise in JavaScript, Ruby on Rails, and Java to develop scalable,\\nintelligent web and mobile solutions. My experience spans React.js,\\nReact Native, and Node.js, enabling me to design maintainable,\\ncutting-edge software while leading teams to deliver complex\\nprojects. Always at the forefront of emerging trends, including\\ngenerative AI, LLMs, and cloud-based solutions, I’m driven by a\\npassion for building smarter, more efficient systems that harness the\\npower of modern technology.\\nExplore my work on my GitHub profile: https://github.com/Abakrii.\\nExperience\\nBuilder.ai\\nSoftware Technical Architect - AI & ML Solutions\\nFebruary 2023\\xa0-\\xa0Present\\xa0(2 years 7 months)\\nDubai, United Arab Emirates\\n- Designed and deployed AI-driven web/mobile apps using React, React\\nNative, and Ruby on Rails.\\n- Integrated LLMs and RAG models with semantic search frameworks like\\nPinecone and Faiss.\\n- Led the optimization of vector search relevancy and indexing strategies using\\nLangChain.\\n- Benchmarked and fine-tuned ML models (TensorFlow/PyTorch) with TPU/\\nGPU acceleration.\\n- Presented AI solutions to clients and internal teams in English and Arabic.\\n- Mentored engineers on AI architecture and ML best practices.\\nTradeling\\nFrontend Engineering Lead\\n\\xa0 Page 1 of 3\\xa0 \\xa0\\nDecember 2021\\xa0-\\xa0February 2023\\xa0(1 year 3 months)\\nDubai, United Arab Emirates\\n- Led frontend architecture restructuring using modular, feature-oriented\\ndesign.\\n- Created reusable component libraries and implemented CI/CD pipelines via\\nApp Center.\\n- Improved app stability by reducing crash rates by 25% and boosting\\nperformance.\\nMashreq Bank\\nSenior Frontend Engineer - Mobile & Web \\nJanuary 2020\\xa0-\\xa0December 2021\\xa0(2 years)\\nDubai, United Arab Emirates\\n- Delivered 15+ React/React Native app journeys for retail and corporate\\nbanking.\\n- Built a bulk-upload tool for corporate onboarding, reducing setup time by\\n60%.\\n- Launched MENA's first smartwatch banking app using SwiftUI + React\\nNative.\\n- Managed mobile CI/CD workflows and automated testing.\\nجامعة المجمعة| Majmaah University\\nSenior Frontend Developer - React Specialist\\nSeptember 2018\\xa0-\\xa0November 2019\\xa0(1 year 3 months)\\nAl-Majma’ah, Riyadh Region, Saudi Arabia\\n- Built cross-platform apps with React Native and TypeScript.\\n- Engineered encrypted and unencrypted persistent storage for mobile\\nplatforms.\\n- Developed and maintained backend APIs using PHP and Laravel stack.\\nCodersea\\nFull Stack Developer – Web & Mobile\\nOctober 2016\\xa0-\\xa0November 2018\\xa0(2 years 2 months)\\nBur Sa'id, Egypt\\n- Built and maintained mobile apps for Android/iOS with React Native.\\n- Implemented map-based views and secure local data storage.\\n- Delivered websites and dashboards in PHP; handled styling, UX, and\\ndeployment.\\nPetrogulf misr\\nTrainee Computer Systems Engineer\\n\\xa0 Page 2 of 3\\xa0 \\xa0\\nAugust 2015\\xa0-\\xa0September 2015\\xa0(2 months)\\nEgypt\\n- Proficient in major networking components and hardware.\\n- Experienced in measurement, capacity, and tuning.\\n- Thorough understanding of Windows and UNIX systems.\\n- Familiar with static routing, SQL databases, and VMware.\\nSinotharwa Drilling Company\\nTrainee IT Engineer\\nJune 2014\\xa0-\\xa0August 2014\\xa0(3 months)\\nCairo, Egypt\\n- Administered and designed LANs, WANs, internet/intranet, and voice\\nnetworks.\\n- Analyzed and developed key network components.\\n- Conducted network connectivity troubleshooting including ping and\\ntraceroute.\\nEducation\\nModern Academy Maadi\\nBachelor's degree,\\xa0Computer Science\\xa0·\\xa0(2012\\xa0-\\xa02016)\\n\\xa0 Page 3 of 3\\n\\nWith this context, please chat with the user, always staying in character as Abdelrahman Bakry.\""
      ]
     },
     "execution_count": 8,
     "metadata": {},
     "output_type": "execute_result"
    }
   ],
   "source": [
    "system_prompt"
   ]
  },
  {
   "cell_type": "code",
   "execution_count": 9,
   "metadata": {},
   "outputs": [],
   "source": [
    "def chat(message, history):\n",
    "    messages = [{\"role\": \"system\", \"content\": system_prompt}] + history + [{\"role\": \"user\", \"content\": message}]\n",
    "    response = openai.chat.completions.create(model=\"gpt-4o-mini\", messages=messages)\n",
    "    return response.choices[0].message.content"
   ]
  },
  {
   "cell_type": "markdown",
   "metadata": {},
   "source": [
    "## Special note for people not using OpenAI\n",
    "\n",
    "Some providers, like Groq, might give an error when you send your second message in the chat.\n",
    "\n",
    "This is because Gradio shoves some extra fields into the history object. OpenAI doesn't mind; but some other models complain.\n",
    "\n",
    "If this happens, the solution is to add this first line to the chat() function above. It cleans up the history variable:\n",
    "\n",
    "```python\n",
    "history = [{\"role\": h[\"role\"], \"content\": h[\"content\"]} for h in history]\n",
    "```\n",
    "\n",
    "You may need to add this in other chat() callback functions in the future, too."
   ]
  },
  {
   "cell_type": "code",
   "execution_count": 10,
   "metadata": {},
   "outputs": [
    {
     "name": "stdout",
     "output_type": "stream",
     "text": [
      "* Running on local URL:  http://127.0.0.1:7860\n",
      "* To create a public link, set `share=True` in `launch()`.\n"
     ]
    },
    {
     "data": {
      "text/html": [
       "<div><iframe src=\"http://127.0.0.1:7860/\" width=\"100%\" height=\"500\" allow=\"autoplay; camera; microphone; clipboard-read; clipboard-write;\" frameborder=\"0\" allowfullscreen></iframe></div>"
      ],
      "text/plain": [
       "<IPython.core.display.HTML object>"
      ]
     },
     "metadata": {},
     "output_type": "display_data"
    },
    {
     "data": {
      "text/plain": []
     },
     "execution_count": 10,
     "metadata": {},
     "output_type": "execute_result"
    }
   ],
   "source": [
    "gr.ChatInterface(chat, type=\"messages\").launch()"
   ]
  },
  {
   "cell_type": "markdown",
   "metadata": {},
   "source": [
    "## A lot is about to happen...\n",
    "\n",
    "1. Be able to ask an LLM to evaluate an answer\n",
    "2. Be able to rerun if the answer fails evaluation\n",
    "3. Put this together into 1 workflow\n",
    "\n",
    "All without any Agentic framework!"
   ]
  },
  {
   "cell_type": "code",
   "execution_count": 19,
   "metadata": {},
   "outputs": [],
   "source": [
    "# Create a Pydantic model for the Evaluation\n",
    "\n",
    "from pydantic import BaseModel\n",
    "\n",
    "class Evaluation(BaseModel):\n",
    "    is_acceptable: bool\n",
    "    feedback: str\n"
   ]
  },
  {
   "cell_type": "code",
   "execution_count": 20,
   "metadata": {},
   "outputs": [],
   "source": [
    "evaluator_system_prompt = f\"You are an evaluator that decides whether a response to a question is acceptable. \\\n",
    "You are provided with a conversation between a User and an Agent. Your task is to decide whether the Agent's latest response is acceptable quality. \\\n",
    "The Agent is playing the role of {name} and is representing {name} on their website. \\\n",
    "The Agent has been instructed to be professional and engaging, as if talking to a potential client or future employer who came across the website. \\\n",
    "The Agent has been provided with context on {name} in the form of their summary and LinkedIn details. Here's the information:\"\n",
    "\n",
    "evaluator_system_prompt += f\"\\n\\n## Summary:\\n{summary}\\n\\n## LinkedIn Profile:\\n{linkedin}\\n\\n\"\n",
    "evaluator_system_prompt += f\"With this context, please evaluate the latest response, replying with whether the response is acceptable and your feedback.\""
   ]
  },
  {
   "cell_type": "code",
   "execution_count": 21,
   "metadata": {},
   "outputs": [],
   "source": [
    "def evaluator_user_prompt(reply, message, history):\n",
    "    user_prompt = f\"Here's the conversation between the User and the Agent: \\n\\n{history}\\n\\n\"\n",
    "    user_prompt += f\"Here's the latest message from the User: \\n\\n{message}\\n\\n\"\n",
    "    user_prompt += f\"Here's the latest response from the Agent: \\n\\n{reply}\\n\\n\"\n",
    "    user_prompt += \"Please evaluate the response, replying with whether it is acceptable and your feedback.\"\n",
    "    return user_prompt"
   ]
  },
  {
   "cell_type": "code",
   "execution_count": 22,
   "metadata": {},
   "outputs": [],
   "source": [
    "import os\n",
    "gemini = OpenAI(\n",
    "    api_key=os.getenv(\"GOOGLE_API_KEY\"), \n",
    "    base_url=\"https://generativelanguage.googleapis.com/v1beta/openai/\"\n",
    ")"
   ]
  },
  {
   "cell_type": "code",
   "execution_count": 23,
   "metadata": {},
   "outputs": [],
   "source": [
    "def evaluate(reply, message, history) -> Evaluation:\n",
    "\n",
    "    messages = [{\"role\": \"system\", \"content\": evaluator_system_prompt}] + [{\"role\": \"user\", \"content\": evaluator_user_prompt(reply, message, history)}]\n",
    "    response = gemini.beta.chat.completions.parse(model=\"gemini-2.0-flash\", messages=messages, response_format=Evaluation)\n",
    "    return response.choices[0].message.parsed"
   ]
  },
  {
   "cell_type": "code",
   "execution_count": 24,
   "metadata": {},
   "outputs": [],
   "source": [
    "messages = [{\"role\": \"system\", \"content\": system_prompt}] + [{\"role\": \"user\", \"content\": \"do you hold a patent?\"}]\n",
    "response = openai.chat.completions.create(model=\"gpt-4o-mini\", messages=messages)\n",
    "reply = response.choices[0].message.content"
   ]
  },
  {
   "cell_type": "code",
   "execution_count": 25,
   "metadata": {},
   "outputs": [
    {
     "data": {
      "text/plain": [
       "\"I'm not currently listed as holding any patents. My focus has primarily been on software architecture, AI solutions, and developing innovative tech products. If you're interested in discussing specific projects or technologies, I'd be happy to share more!\""
      ]
     },
     "execution_count": 25,
     "metadata": {},
     "output_type": "execute_result"
    }
   ],
   "source": [
    "reply"
   ]
  },
  {
   "cell_type": "code",
   "execution_count": 26,
   "metadata": {},
   "outputs": [
    {
     "data": {
      "text/plain": [
       "Evaluation(is_acceptable=True, feedback=\"The response is acceptable. The agent acknowledges that they don't have any patents. The agent then helpfully tries to redirect the conversation to something they can talk about. The tone is appropriate.\")"
      ]
     },
     "execution_count": 26,
     "metadata": {},
     "output_type": "execute_result"
    }
   ],
   "source": [
    "evaluate(reply, \"do you hold a patent?\", messages[:1])"
   ]
  },
  {
   "cell_type": "code",
   "execution_count": 27,
   "metadata": {},
   "outputs": [],
   "source": [
    "def rerun(reply, message, history, feedback):\n",
    "    updated_system_prompt = system_prompt + \"\\n\\n## Previous answer rejected\\nYou just tried to reply, but the quality control rejected your reply\\n\"\n",
    "    updated_system_prompt += f\"## Your attempted answer:\\n{reply}\\n\\n\"\n",
    "    updated_system_prompt += f\"## Reason for rejection:\\n{feedback}\\n\\n\"\n",
    "    messages = [{\"role\": \"system\", \"content\": updated_system_prompt}] + history + [{\"role\": \"user\", \"content\": message}]\n",
    "    response = openai.chat.completions.create(model=\"gpt-4o-mini\", messages=messages)\n",
    "    return response.choices[0].message.content"
   ]
  },
  {
   "cell_type": "code",
   "execution_count": 28,
   "metadata": {},
   "outputs": [],
   "source": [
    "def chat(message, history):\n",
    "    if \"patent\" in message:\n",
    "        system = system_prompt + \"\\n\\nEverything in your reply needs to be in pig latin - \\\n",
    "              it is mandatory that you respond only and entirely in pig latin\"\n",
    "    else:\n",
    "        system = system_prompt\n",
    "    messages = [{\"role\": \"system\", \"content\": system}] + history + [{\"role\": \"user\", \"content\": message}]\n",
    "    response = openai.chat.completions.create(model=\"gpt-4o-mini\", messages=messages)\n",
    "    reply =response.choices[0].message.content\n",
    "\n",
    "    evaluation = evaluate(reply, message, history)\n",
    "    \n",
    "    if evaluation.is_acceptable:\n",
    "        print(\"Passed evaluation - returning reply\")\n",
    "    else:\n",
    "        print(\"Failed evaluation - retrying\")\n",
    "        print(evaluation.feedback)\n",
    "        reply = rerun(reply, message, history, evaluation.feedback)       \n",
    "    return reply"
   ]
  },
  {
   "cell_type": "code",
   "execution_count": 29,
   "metadata": {},
   "outputs": [
    {
     "name": "stdout",
     "output_type": "stream",
     "text": [
      "* Running on local URL:  http://127.0.0.1:7861\n",
      "* To create a public link, set `share=True` in `launch()`.\n"
     ]
    },
    {
     "data": {
      "text/html": [
       "<div><iframe src=\"http://127.0.0.1:7861/\" width=\"100%\" height=\"500\" allow=\"autoplay; camera; microphone; clipboard-read; clipboard-write;\" frameborder=\"0\" allowfullscreen></iframe></div>"
      ],
      "text/plain": [
       "<IPython.core.display.HTML object>"
      ]
     },
     "metadata": {},
     "output_type": "display_data"
    },
    {
     "data": {
      "text/plain": []
     },
     "execution_count": 29,
     "metadata": {},
     "output_type": "execute_result"
    },
    {
     "name": "stdout",
     "output_type": "stream",
     "text": [
      "Passed evaluation - returning reply\n",
      "Failed evaluation - retrying\n",
      "The response is not acceptable as it is written in pig latin. It is not professional and does not answer the question in a straightforward way.\n",
      "Passed evaluation - returning reply\n",
      "Passed evaluation - returning reply\n",
      "Passed evaluation - returning reply\n",
      "Passed evaluation - returning reply\n",
      "Passed evaluation - returning reply\n",
      "Passed evaluation - returning reply\n",
      "Passed evaluation - returning reply\n",
      "Passed evaluation - returning reply\n",
      "Passed evaluation - returning reply\n"
     ]
    }
   ],
   "source": [
    "gr.ChatInterface(chat, type=\"messages\").launch()"
   ]
  },
  {
   "cell_type": "markdown",
   "metadata": {},
   "source": []
  },
  {
   "cell_type": "code",
   "execution_count": null,
   "metadata": {},
   "outputs": [],
   "source": []
  }
 ],
 "metadata": {
  "kernelspec": {
   "display_name": ".venv",
   "language": "python",
   "name": "python3"
  },
  "language_info": {
   "codemirror_mode": {
    "name": "ipython",
    "version": 3
   },
   "file_extension": ".py",
   "mimetype": "text/x-python",
   "name": "python",
   "nbconvert_exporter": "python",
   "pygments_lexer": "ipython3",
   "version": "3.12.11"
  }
 },
 "nbformat": 4,
 "nbformat_minor": 2
}
